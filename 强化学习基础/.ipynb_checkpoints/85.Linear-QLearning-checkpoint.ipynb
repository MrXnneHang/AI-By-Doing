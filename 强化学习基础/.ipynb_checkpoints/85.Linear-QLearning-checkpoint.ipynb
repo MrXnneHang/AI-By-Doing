{
 "cells": [
  {
   "cell_type": "markdown",
   "id": "feb17090-5ed8-42c1-b5bb-8f7d081bc394",
   "metadata": {},
   "source": [
    "## Q-Learning  \n",
    "### 计算步骤：\n",
    "\n",
    "1. Q-Table的创建： 想象一个表格，行是小狮子的位置，列是它可以采取的动作（比如上、下、左、右）。每个单元格的值叫Q值，代表在这个位置采取这个动作的“好坏”。\n",
    "2. 更新Q值：\n",
    "\n",
    "* 小狮子选择一个动作，移动到下一个位置。\n",
    "* 得到奖励（如果找到火腿，加分；碰到陷阱，减分）。\n",
    "* 更新公式是：\n",
    "  新的Q值=旧的Q值+学习率×(奖励+未来最大Q值−旧的Q值)\n",
    "* 学习率决定了这次更新对旧值的影响有多大。\n",
    "## Linear Q-Learning\n",
    "### 计算步骤：\n",
    "\n",
    "1. 特征向量： 这里不再用表格，而是用一个简单的数学公式来表示Q值。想象小狮子的状态（位置）用几个数字来描述。\n",
    "2. 更新权重：\n",
    "\n",
    "* 使用特征向量来计算Q值。\n",
    "* 更新权重的方式类似：\n",
    "  新的权重=旧的权重+学习率×(奖励+未来最大Q值−当前Q值)×特征向量\n",
    "\n",
    "* 这里的“特征向量”就像是描述小狮子当前状态的数字组合。\n",
    "## 区别总结\n",
    "1. Q-Learning： 使用表格逐个记录每个状态和动作的Q值，每次更新一个单元格。\n",
    "2. Linear Q-Learning： 不用表格，而是用公式和数字组合来快速估算Q值，每次调整公式的参数。"
   ]
  },
  {
   "cell_type": "markdown",
   "id": "715ff006-6d1f-49a1-9d96-2d7ebce7d3f2",
   "metadata": {},
   "source": [
    "## 详解特征向量：\n",
    "\n",
    "ϕ(s)=[x,y,d]<br>\n",
    "\n",
    "x,y坐标，d是距离火腿的距离，实际上也可以d,d，两个距离都放进来。<br>\n",
    "\n",
    "### 权重向量和特征向量:<br>\n",
    "\n",
    "1. 特征向量： 代表当前状态的特征，通常是一个数组，如:<br>\n",
    "\n",
    "ϕ(s)=[a,b,c,d...]。<br>\n",
    "\n",
    "2. 权重向量： 存储与特征相关的权重，形状与特征向量相同，如 \n",
    "𝜃=[a1,b1,c1,d1...]。"
   ]
  },
  {
   "cell_type": "code",
   "execution_count": null,
   "id": "4a7bdc51-3d8a-4092-b5dc-5590b8f0554b",
   "metadata": {},
   "outputs": [],
   "source": []
  }
 ],
 "metadata": {
  "kernelspec": {
   "display_name": "Python 3 (ipykernel)",
   "language": "python",
   "name": "python3"
  },
  "language_info": {
   "codemirror_mode": {
    "name": "ipython",
    "version": 3
   },
   "file_extension": ".py",
   "mimetype": "text/x-python",
   "name": "python",
   "nbconvert_exporter": "python",
   "pygments_lexer": "ipython3",
   "version": "3.10.15"
  }
 },
 "nbformat": 4,
 "nbformat_minor": 5
}
